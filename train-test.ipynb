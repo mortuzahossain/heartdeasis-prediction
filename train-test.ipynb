{
 "cells": [
  {
   "cell_type": "code",
   "execution_count": 1,
   "metadata": {},
   "outputs": [],
   "source": [
    "# Importing the Modules\n",
    "import pandas as pd\n",
    "import os\n",
    "import numpy as np"
   ]
  },
  {
   "cell_type": "code",
   "execution_count": 2,
   "metadata": {},
   "outputs": [
    {
     "data": {
      "text/html": [
       "<div>\n",
       "<style scoped>\n",
       "    .dataframe tbody tr th:only-of-type {\n",
       "        vertical-align: middle;\n",
       "    }\n",
       "\n",
       "    .dataframe tbody tr th {\n",
       "        vertical-align: top;\n",
       "    }\n",
       "\n",
       "    .dataframe thead th {\n",
       "        text-align: right;\n",
       "    }\n",
       "</style>\n",
       "<table border=\"1\" class=\"dataframe\">\n",
       "  <thead>\n",
       "    <tr style=\"text-align: right;\">\n",
       "      <th></th>\n",
       "      <th>Age</th>\n",
       "      <th>Sex</th>\n",
       "      <th>CP</th>\n",
       "      <th>testbps</th>\n",
       "      <th>chol</th>\n",
       "      <th>fbs</th>\n",
       "      <th>restecg</th>\n",
       "      <th>thalach</th>\n",
       "      <th>exang</th>\n",
       "      <th>oldpeak</th>\n",
       "      <th>slop</th>\n",
       "      <th>ca</th>\n",
       "      <th>thal</th>\n",
       "      <th>result</th>\n",
       "    </tr>\n",
       "  </thead>\n",
       "  <tbody>\n",
       "    <tr>\n",
       "      <th>0</th>\n",
       "      <td>63</td>\n",
       "      <td>1</td>\n",
       "      <td>1</td>\n",
       "      <td>145</td>\n",
       "      <td>233</td>\n",
       "      <td>1</td>\n",
       "      <td>2</td>\n",
       "      <td>150</td>\n",
       "      <td>0.0</td>\n",
       "      <td>2.3</td>\n",
       "      <td>3</td>\n",
       "      <td>0.0</td>\n",
       "      <td>6.0</td>\n",
       "      <td>0</td>\n",
       "    </tr>\n",
       "    <tr>\n",
       "      <th>1</th>\n",
       "      <td>67</td>\n",
       "      <td>1</td>\n",
       "      <td>4</td>\n",
       "      <td>160</td>\n",
       "      <td>286</td>\n",
       "      <td>0</td>\n",
       "      <td>2</td>\n",
       "      <td>108</td>\n",
       "      <td>1.0</td>\n",
       "      <td>1.5</td>\n",
       "      <td>2</td>\n",
       "      <td>3.0</td>\n",
       "      <td>3.0</td>\n",
       "      <td>2</td>\n",
       "    </tr>\n",
       "    <tr>\n",
       "      <th>2</th>\n",
       "      <td>67</td>\n",
       "      <td>1</td>\n",
       "      <td>4</td>\n",
       "      <td>120</td>\n",
       "      <td>229</td>\n",
       "      <td>0</td>\n",
       "      <td>2</td>\n",
       "      <td>129</td>\n",
       "      <td>1.0</td>\n",
       "      <td>2.6</td>\n",
       "      <td>2</td>\n",
       "      <td>2.0</td>\n",
       "      <td>7.0</td>\n",
       "      <td>1</td>\n",
       "    </tr>\n",
       "    <tr>\n",
       "      <th>3</th>\n",
       "      <td>37</td>\n",
       "      <td>1</td>\n",
       "      <td>3</td>\n",
       "      <td>130</td>\n",
       "      <td>250</td>\n",
       "      <td>0</td>\n",
       "      <td>0</td>\n",
       "      <td>187</td>\n",
       "      <td>0.0</td>\n",
       "      <td>3.5</td>\n",
       "      <td>3</td>\n",
       "      <td>0.0</td>\n",
       "      <td>3.0</td>\n",
       "      <td>0</td>\n",
       "    </tr>\n",
       "    <tr>\n",
       "      <th>4</th>\n",
       "      <td>41</td>\n",
       "      <td>0</td>\n",
       "      <td>2</td>\n",
       "      <td>130</td>\n",
       "      <td>204</td>\n",
       "      <td>0</td>\n",
       "      <td>2</td>\n",
       "      <td>172</td>\n",
       "      <td>0.0</td>\n",
       "      <td>1.4</td>\n",
       "      <td>1</td>\n",
       "      <td>0.0</td>\n",
       "      <td>3.0</td>\n",
       "      <td>0</td>\n",
       "    </tr>\n",
       "  </tbody>\n",
       "</table>\n",
       "</div>"
      ],
      "text/plain": [
       "   Age  Sex  CP  testbps  chol  fbs  restecg  thalach  exang  oldpeak  slop  \\\n",
       "0   63    1   1      145   233    1        2      150    0.0      2.3     3   \n",
       "1   67    1   4      160   286    0        2      108    1.0      1.5     2   \n",
       "2   67    1   4      120   229    0        2      129    1.0      2.6     2   \n",
       "3   37    1   3      130   250    0        0      187    0.0      3.5     3   \n",
       "4   41    0   2      130   204    0        2      172    0.0      1.4     1   \n",
       "\n",
       "    ca  thal  result  \n",
       "0  0.0   6.0       0  \n",
       "1  3.0   3.0       2  \n",
       "2  2.0   7.0       1  \n",
       "3  0.0   3.0       0  \n",
       "4  0.0   3.0       0  "
      ]
     },
     "execution_count": 2,
     "metadata": {},
     "output_type": "execute_result"
    }
   ],
   "source": [
    "# Read the hole dataset\n",
    "df = pd.read_csv('processed.cleveland .csv')\n",
    "df.head(5)"
   ]
  },
  {
   "cell_type": "code",
   "execution_count": 3,
   "metadata": {},
   "outputs": [],
   "source": [
    "df = df.dropna()"
   ]
  },
  {
   "cell_type": "code",
   "execution_count": 4,
   "metadata": {},
   "outputs": [],
   "source": [
    "# Generate X and Y array\n",
    "y = df['result'].as_matrix()\n",
    "del df['result']\n",
    "X = df.as_matrix()"
   ]
  },
  {
   "cell_type": "code",
   "execution_count": 5,
   "metadata": {},
   "outputs": [],
   "source": [
    "# Split data for training(70%) and testing(30%)\n",
    "from sklearn.model_selection import train_test_split\n",
    "X_train , X_test , y_train , y_test = train_test_split(X,y,test_size = 0.1)"
   ]
  },
  {
   "cell_type": "code",
   "execution_count": 6,
   "metadata": {},
   "outputs": [
    {
     "data": {
      "text/plain": [
       "['heart-deasis-prediction-model.pkl']"
      ]
     },
     "execution_count": 6,
     "metadata": {},
     "output_type": "execute_result"
    }
   ],
   "source": [
    "# Saving The Trained Model to a file for using in other program\n",
    "from sklearn.externals import joblib\n",
    "from sklearn import ensemble\n",
    "model = ensemble.GradientBoostingRegressor(\n",
    "    n_estimators = 100,\n",
    "    learning_rate = 0.01,\n",
    "    max_depth = 10,\n",
    "    min_samples_leaf = 1,\n",
    "    max_features = 0.01,\n",
    "    loss = 'huber'\n",
    ")\n",
    "\n",
    "model.fit(X_train,y_train)\n",
    "joblib.dump(model,'heart-deasis-prediction-model.pkl')"
   ]
  },
  {
   "cell_type": "code",
   "execution_count": 7,
   "metadata": {},
   "outputs": [
    {
     "name": "stdout",
     "output_type": "stream",
     "text": [
      "Train : 0.377637970303\n",
      "Test : 0.543368182125\n"
     ]
    }
   ],
   "source": [
    "# Measuring The Mean Absolute Error For training data\n",
    "from sklearn.metrics import mean_absolute_error\n",
    "# For Training data\n",
    "mse = mean_absolute_error(y_train,model.predict(X_train))\n",
    "print 'Train : {}'.format(mse)\n",
    "# For Testing data\n",
    "mse = mean_absolute_error(y_test,model.predict(X_test))\n",
    "print 'Test : {}'.format(mse)"
   ]
  },
  {
   "cell_type": "code",
   "execution_count": 8,
   "metadata": {},
   "outputs": [
    {
     "name": "stdout",
     "output_type": "stream",
     "text": [
      "Well Done You Maintained Your Health Pretty well.  \t(Predicted Result : 0.0)\n"
     ]
    }
   ],
   "source": [
    "# Getting the input:\n",
    "\n",
    "age = 63\n",
    "# Sex 1 = male 0 = female\n",
    "sex = 1\n",
    "\n",
    "# cp: chest pain type\n",
    "#         -- Value 1: typical angina\n",
    "#         -- Value 2: atypical angina\n",
    "#         -- Value 3: non-anginal pain\n",
    "#         -- Value 4: asymptomatic\n",
    "cp = 1\n",
    "\n",
    "# trestbps: resting blood pressure (in mm Hg on admission to thehospital)\n",
    "trestbps = 145\n",
    "\n",
    "# chol: serum cholestoral in mg/dl\n",
    "chol = 233\n",
    "\n",
    "# fbs: (fasting blood sugar > 120 mg/dl)  (1 = true; 0 = false)\n",
    "fbs = 1\n",
    "\n",
    "# restecg: resting electrocardiographic results\n",
    "#         -- Value 0: normal\n",
    "#         -- Value 1: having ST-T wave abnormality (T wave inversions and/or ST \n",
    "#                     elevation or depression of > 0.05 mV)\n",
    "#         -- Value 2: showing probable or definite left ventricular hypertrophy\n",
    "#                     by Estes' criteria\n",
    "restecg = 2\n",
    "\n",
    "\n",
    "\n",
    "prediction = model.predict([[age,sex,cp,trestbps,chol,fbs,restecg,150,0,2.3,3,0,6]])[0]\n",
    "if prediction > 1 :\n",
    "    print \"Patiemt are in danger. \\t(Predicted Result : {})\".format(prediction)\n",
    "else:\n",
    "    print \"Well Done You Maintained Your Health Pretty well.  \\t(Predicted Result : {})\".format(round(prediction))\n",
    "        "
   ]
  },
  {
   "cell_type": "code",
   "execution_count": 9,
   "metadata": {},
   "outputs": [
    {
     "name": "stdout",
     "output_type": "stream",
     "text": [
      "[ 60.    1.    4.  140.  293.    0.    2.  170.    0.    1.2   2.    2.\n",
      "   7. ]\n"
     ]
    }
   ],
   "source": [
    "print X_train[0]"
   ]
  }
 ],
 "metadata": {
  "kernelspec": {
   "display_name": "Python 2",
   "language": "python",
   "name": "python2"
  },
  "language_info": {
   "codemirror_mode": {
    "name": "ipython",
    "version": 2
   },
   "file_extension": ".py",
   "mimetype": "text/x-python",
   "name": "python",
   "nbconvert_exporter": "python",
   "pygments_lexer": "ipython2",
   "version": "2.7.14"
  }
 },
 "nbformat": 4,
 "nbformat_minor": 2
}
