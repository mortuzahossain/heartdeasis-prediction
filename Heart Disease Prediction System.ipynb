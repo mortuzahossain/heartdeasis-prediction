{
 "cells": [
  {
   "cell_type": "code",
   "execution_count": null,
   "metadata": {},
   "outputs": [],
   "source": [
    "import pandas as pd\n",
    "import os\n",
    "\n",
    "# Read the hole dataset# Read  \n",
    "df = pd.read_csv('processed.cleveland .csv')\n",
    "df.head(5)"
   ]
  },
  {
   "cell_type": "code",
   "execution_count": null,
   "metadata": {},
   "outputs": [],
   "source": [
    "df = df.dropna()\n",
    "y = df['result'].as_matrix()\n",
    "del df['result']\n",
    "X = df.as_matrix()\n",
    "\n",
    "# Split data for training(70%) and testing(30%)\n",
    "from sklearn.model_selection import train_test_split\n",
    "X_train , X_test , y_train , y_test = train_test_split(X,y,test_size = 0.1)"
   ]
  },
  {
   "cell_type": "markdown",
   "metadata": {},
   "source": [
    "# 1. KNeighborsClassifier"
   ]
  },
  {
   "cell_type": "code",
   "execution_count": null,
   "metadata": {},
   "outputs": [],
   "source": [
    "from sklearn.neighbors import KNeighborsClassifier\n",
    "# Creating Classifier\n",
    "knn = KNeighborsClassifier()\n",
    "# Train The Classifier\n",
    "knn.fit(X_train,y_train)\n",
    "# Test The Classifier\n",
    "print (\"Accuracy of KNN Train : {}\".format(knn.score(X_train,y_train)))\n",
    "print (\"Accuracy of KNN Test : {}\".format(knn.score(X_test,y_test)))\n",
    "# See The Mean Error\n",
    "mse = mean_absolute_error(y_train,knn.predict(X_train))\n",
    "print ('Train : {}'.format(mse))\n",
    "# For Testing data\n",
    "mse = mean_absolute_error(y_test,knn.predict(X_test))\n",
    "print ('Test : {}'.format(mse))\n",
    "\n",
    "# Saving The Generated Model\n",
    "joblib.dump(knn,'knn-cancer-prediction-model.pkl')"
   ]
  },
  {
   "cell_type": "markdown",
   "metadata": {},
   "source": [
    "# 2. GradientBoostingRegressor"
   ]
  },
  {
   "cell_type": "code",
   "execution_count": null,
   "metadata": {},
   "outputs": [],
   "source": [
    "from sklearn import ensemble\n",
    "# Creating Classifier\n",
    "model = ensemble.GradientBoostingRegressor()\n",
    "# Train The Classifier\n",
    "model.fit(X_train,y_train)\n",
    "\n",
    "# Save The Classifier\n",
    "joblib.dump(model,'GradientBoostingRegressor-cancer-prediction-model.pkl')\n",
    "\n",
    "# Test The Classifier\n",
    "print (\"Accuracy of GradientBoostingRegressor Train : {}\".format(model.score(X_train,y_train)))\n",
    "print (\"Accuracy of GradientBoostingRegressor Test : {}\".format(model.score(X_test,y_test)))\n",
    "mse = mean_absolute_error(y_train,model.predict(X_train))\n",
    "print ('Train : {}'.format(mse))\n",
    "# For Testing data\n",
    "mse = mean_absolute_error(y_test,model.predict(X_test))\n",
    "print ('Test : {}'.format(mse))"
   ]
  },
  {
   "cell_type": "markdown",
   "metadata": {},
   "source": [
    "# 3. RandomForestClassifier"
   ]
  },
  {
   "cell_type": "code",
   "execution_count": null,
   "metadata": {},
   "outputs": [],
   "source": [
    "from sklearn.ensemble import RandomForestClassifier\n",
    "clf = RandomForestClassifier()\n",
    "clf.fit(X_train,y_train)\n",
    "\n",
    "# Saving The Model\n",
    "joblib.dump(mlp,'RandomForestClassifier-cancer-prediction-model.pkl')\n",
    "# Test The Classifier\n",
    "print (\"Accuracy of RandomForestClassifier Train : {}\".format(clf.score(X_train,y_train)))\n",
    "print (\"Accuracy of RandomForestClassifier Test : {}\".format(clf.score(X_test,y_test)))\n",
    "mse = mean_absolute_error(y_train,model.predict(X_train))\n",
    "print ('Train : {}'.format(mse))\n",
    "# For Testing data\n",
    "mse = mean_absolute_error(y_test,model.predict(X_test))\n",
    "print ('Test : {}'.format(mse))"
   ]
  }
 ],
 "metadata": {
  "kernelspec": {
   "display_name": "Python 2",
   "language": "python",
   "name": "python2"
  },
  "language_info": {
   "codemirror_mode": {
    "name": "ipython",
    "version": 2
   },
   "file_extension": ".py",
   "mimetype": "text/x-python",
   "name": "python",
   "nbconvert_exporter": "python",
   "pygments_lexer": "ipython2",
   "version": "2.7.14"
  }
 },
 "nbformat": 4,
 "nbformat_minor": 2
}
