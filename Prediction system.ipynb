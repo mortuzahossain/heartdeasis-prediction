{
 "cells": [
  {
   "cell_type": "code",
   "execution_count": 1,
   "metadata": {},
   "outputs": [],
   "source": [
    "# Importing Modules\n",
    "import pandas as pd\n",
    "from sklearn.externals import joblib\n",
    "# from sklearn import ensemble"
   ]
  },
  {
   "cell_type": "code",
   "execution_count": 2,
   "metadata": {},
   "outputs": [],
   "source": [
    "model = joblib.load('heart-deasis-prediction-model.pkl')"
   ]
  },
  {
   "cell_type": "code",
   "execution_count": 3,
   "metadata": {},
   "outputs": [
    {
     "data": {
      "text/plain": [
       "0.006484282791568664"
      ]
     },
     "execution_count": 3,
     "metadata": {},
     "output_type": "execute_result"
    }
   ],
   "source": [
    "age = 63\n",
    "# Sex 1 = male 0 = female\n",
    "sex = 1\n",
    "\n",
    "# cp: chest pain type\n",
    "#         -- Value 1: typical angina\n",
    "#         -- Value 2: atypical angina\n",
    "#         -- Value 3: non-anginal pain\n",
    "#         -- Value 4: asymptomatic\n",
    "cp = 1\n",
    "\n",
    "# trestbps: resting blood pressure (in mm Hg on admission to thehospital)\n",
    "trestbps = 145\n",
    "\n",
    "# chol: serum cholestoral in mg/dl\n",
    "chol = 233\n",
    "\n",
    "# fbs: (fasting blood sugar > 120 mg/dl)  (1 = true; 0 = false)\n",
    "fbs = 1\n",
    "\n",
    "# restecg: resting electrocardiographic results\n",
    "#         -- Value 0: normal\n",
    "#         -- Value 1: having ST-T wave abnormality (T wave inversions and/or ST \n",
    "#                     elevation or depression of > 0.05 mV)\n",
    "#         -- Value 2: showing probable or definite left ventricular hypertrophy\n",
    "#                     by Estes' criteria\n",
    "restecg = 2\n",
    "\n",
    "# thalach: maximum heart rate achieved\n",
    "thalach = 150\n",
    "\n",
    "# exang: exercise induced angina (1 = yes; 0 = no)\n",
    "exang = 0\n",
    "\n",
    "# oldpeak = ST depression induced by exercise relative to rest\n",
    "oldpeak = 2.3\n",
    "\n",
    "# slope: the slope of the peak exercise ST segment\n",
    "#         -- Value 1: upsloping\n",
    "#         -- Value 2: flat\n",
    "#         -- Value 3: downsloping\n",
    "slope = 3\n",
    "\n",
    "# ca: number of major vessels (0-3) colored by flourosopy\n",
    "ca = 0\n",
    "\n",
    "# thal: 3 = normal; 6 = fixed defect; 7 = reversable defect\n",
    "thal = 6\n",
    "\n",
    "model.predict([[age,sex,cp,trestbps,chol,fbs,restecg,thalach,exang,oldpeak,slope,ca,thal]])[0]"
   ]
  },
  {
   "cell_type": "code",
   "execution_count": 1,
   "metadata": {},
   "outputs": [
    {
     "name": "stdout",
     "output_type": "stream",
     "text": [
      "> 50% diameter narrowing\n"
     ]
    }
   ],
   "source": [
    "message = \"> 50% diameter narrowing\"\n",
    "print message"
   ]
  }
 ],
 "metadata": {
  "kernelspec": {
   "display_name": "Python 2",
   "language": "python",
   "name": "python2"
  },
  "language_info": {
   "codemirror_mode": {
    "name": "ipython",
    "version": 2
   },
   "file_extension": ".py",
   "mimetype": "text/x-python",
   "name": "python",
   "nbconvert_exporter": "python",
   "pygments_lexer": "ipython2",
   "version": "2.7.14"
  }
 },
 "nbformat": 4,
 "nbformat_minor": 2
}
